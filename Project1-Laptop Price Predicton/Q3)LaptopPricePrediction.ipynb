{
  "nbformat": 4,
  "nbformat_minor": 5,
  "metadata": {
    "kernelspec": {
      "display_name": "Python 3",
      "language": "python",
      "name": "python3"
    },
    "language_info": {
      "codemirror_mode": {
        "name": "ipython",
        "version": 3
      },
      "file_extension": ".py",
      "mimetype": "text/x-python",
      "name": "python",
      "nbconvert_exporter": "python",
      "pygments_lexer": "ipython3",
      "version": "3.8.8"
    },
    "colab": {
      "name": "3-LaptopPricePrediction.ipynb",
      "provenance": []
    }
  },
  "cells": [
    {
      "cell_type": "markdown",
      "metadata": {
        "id": "_klN_3zStz1w"
      },
      "source": [
        "Jason wants to marry Kriti. But Kriti’s father saysJason first needs to be competentenough to marry his daughter. So he tells Jason thathe needs to buy a house, a car anda computer (Kriti is a binge-queen) to be worthy ofher. Love knows no bounds andneither does Jason. So he decides to take up thischallenge and works day and night forthe next 1 year. After toiling away for such a longtime, he now needs to calculate thetotal amount of money he requires to fulfill Kriti’s(but really her father’s) wishes to findout if he has enough saved up right now or not. Datahas been given below and youneed to use that to help him figure out how much hewould need to spend to afford all ofthe above mentioned things. Your goal is to give Jasona total estimate of his expenses."
      ],
      "id": "_klN_3zStz1w"
    },
    {
      "cell_type": "code",
      "metadata": {
        "colab": {
          "base_uri": "https://localhost:8080/"
        },
        "id": "TbUUuWlvmiXK",
        "outputId": "57fbb561-b9df-4150-9970-3d1ed073e925"
      },
      "source": [
        "pip install category_encoders"
      ],
      "id": "TbUUuWlvmiXK",
      "execution_count": null,
      "outputs": [
        {
          "output_type": "stream",
          "text": [
            "Requirement already satisfied: category_encoders in /usr/local/lib/python3.7/dist-packages (2.2.2)\n",
            "Requirement already satisfied: numpy>=1.14.0 in /usr/local/lib/python3.7/dist-packages (from category_encoders) (1.19.5)\n",
            "Requirement already satisfied: statsmodels>=0.9.0 in /usr/local/lib/python3.7/dist-packages (from category_encoders) (0.10.2)\n",
            "Requirement already satisfied: scipy>=1.0.0 in /usr/local/lib/python3.7/dist-packages (from category_encoders) (1.4.1)\n",
            "Requirement already satisfied: pandas>=0.21.1 in /usr/local/lib/python3.7/dist-packages (from category_encoders) (1.1.5)\n",
            "Requirement already satisfied: scikit-learn>=0.20.0 in /usr/local/lib/python3.7/dist-packages (from category_encoders) (0.22.2.post1)\n",
            "Requirement already satisfied: patsy>=0.5.1 in /usr/local/lib/python3.7/dist-packages (from category_encoders) (0.5.1)\n",
            "Requirement already satisfied: pytz>=2017.2 in /usr/local/lib/python3.7/dist-packages (from pandas>=0.21.1->category_encoders) (2018.9)\n",
            "Requirement already satisfied: python-dateutil>=2.7.3 in /usr/local/lib/python3.7/dist-packages (from pandas>=0.21.1->category_encoders) (2.8.1)\n",
            "Requirement already satisfied: joblib>=0.11 in /usr/local/lib/python3.7/dist-packages (from scikit-learn>=0.20.0->category_encoders) (1.0.1)\n",
            "Requirement already satisfied: six in /usr/local/lib/python3.7/dist-packages (from patsy>=0.5.1->category_encoders) (1.15.0)\n"
          ],
          "name": "stdout"
        }
      ]
    },
    {
      "cell_type": "markdown",
      "metadata": {
        "id": "JH7fxBQit374"
      },
      "source": [
        "Necessary Modules :"
      ],
      "id": "JH7fxBQit374"
    },
    {
      "cell_type": "code",
      "metadata": {
        "colab": {
          "base_uri": "https://localhost:8080/"
        },
        "id": "b1c7c607",
        "outputId": "045f0074-afc9-4c63-bf87-71a32c6ba223"
      },
      "source": [
        "import numpy as np\n",
        "import pandas as pd\n",
        "import matplotlib.pyplot as plt\n",
        "from sklearn import preprocessing, svm, model_selection\n",
        "from sklearn.linear_model import LinearRegression, Lasso, Ridge\n",
        "import seaborn as sns\n",
        "import category_encoders as ce"
      ],
      "id": "b1c7c607",
      "execution_count": null,
      "outputs": [
        {
          "output_type": "stream",
          "text": [
            "/usr/local/lib/python3.7/dist-packages/statsmodels/tools/_testing.py:19: FutureWarning: pandas.util.testing is deprecated. Use the functions in the public API at pandas.testing instead.\n",
            "  import pandas.util.testing as tm\n"
          ],
          "name": "stderr"
        }
      ]
    },
    {
      "cell_type": "markdown",
      "metadata": {
        "id": "SrHGfYEcur4a"
      },
      "source": [
        "Reading data :"
      ],
      "id": "SrHGfYEcur4a"
    },
    {
      "cell_type": "code",
      "metadata": {
        "id": "4bdab7f9"
      },
      "source": [
        "data=pd.read_csv('laptops.csv',encoding='ISO-8859–1',index_col=0)"
      ],
      "id": "4bdab7f9",
      "execution_count": null,
      "outputs": []
    },
    {
      "cell_type": "code",
      "metadata": {
        "colab": {
          "base_uri": "https://localhost:8080/",
          "height": 587
        },
        "id": "464993cc",
        "outputId": "01df118d-e63e-4863-e36b-8c97f455f0c7"
      },
      "source": [
        "data"
      ],
      "id": "464993cc",
      "execution_count": null,
      "outputs": [
        {
          "output_type": "execute_result",
          "data": {
            "text/html": [
              "<div>\n",
              "<style scoped>\n",
              "    .dataframe tbody tr th:only-of-type {\n",
              "        vertical-align: middle;\n",
              "    }\n",
              "\n",
              "    .dataframe tbody tr th {\n",
              "        vertical-align: top;\n",
              "    }\n",
              "\n",
              "    .dataframe thead th {\n",
              "        text-align: right;\n",
              "    }\n",
              "</style>\n",
              "<table border=\"1\" class=\"dataframe\">\n",
              "  <thead>\n",
              "    <tr style=\"text-align: right;\">\n",
              "      <th></th>\n",
              "      <th>Company</th>\n",
              "      <th>Product</th>\n",
              "      <th>TypeName</th>\n",
              "      <th>Inches</th>\n",
              "      <th>ScreenResolution</th>\n",
              "      <th>Cpu</th>\n",
              "      <th>Ram</th>\n",
              "      <th>Memory</th>\n",
              "      <th>Gpu</th>\n",
              "      <th>OpSys</th>\n",
              "      <th>Weight</th>\n",
              "      <th>Price_euros</th>\n",
              "    </tr>\n",
              "  </thead>\n",
              "  <tbody>\n",
              "    <tr>\n",
              "      <th>1</th>\n",
              "      <td>Apple</td>\n",
              "      <td>MacBook Pro</td>\n",
              "      <td>Ultrabook</td>\n",
              "      <td>13.3</td>\n",
              "      <td>IPS Panel Retina Display 2560x1600</td>\n",
              "      <td>Intel Core i5 2.3GHz</td>\n",
              "      <td>8GB</td>\n",
              "      <td>128GB SSD</td>\n",
              "      <td>Intel Iris Plus Graphics 640</td>\n",
              "      <td>macOS</td>\n",
              "      <td>1.37kg</td>\n",
              "      <td>1339.69</td>\n",
              "    </tr>\n",
              "    <tr>\n",
              "      <th>2</th>\n",
              "      <td>Apple</td>\n",
              "      <td>Macbook Air</td>\n",
              "      <td>Ultrabook</td>\n",
              "      <td>13.3</td>\n",
              "      <td>1440x900</td>\n",
              "      <td>Intel Core i5 1.8GHz</td>\n",
              "      <td>8GB</td>\n",
              "      <td>128GB Flash Storage</td>\n",
              "      <td>Intel HD Graphics 6000</td>\n",
              "      <td>macOS</td>\n",
              "      <td>1.34kg</td>\n",
              "      <td>898.94</td>\n",
              "    </tr>\n",
              "    <tr>\n",
              "      <th>3</th>\n",
              "      <td>HP</td>\n",
              "      <td>250 G6</td>\n",
              "      <td>Notebook</td>\n",
              "      <td>15.6</td>\n",
              "      <td>Full HD 1920x1080</td>\n",
              "      <td>Intel Core i5 7200U 2.5GHz</td>\n",
              "      <td>8GB</td>\n",
              "      <td>256GB SSD</td>\n",
              "      <td>Intel HD Graphics 620</td>\n",
              "      <td>No OS</td>\n",
              "      <td>1.86kg</td>\n",
              "      <td>575.00</td>\n",
              "    </tr>\n",
              "    <tr>\n",
              "      <th>4</th>\n",
              "      <td>Apple</td>\n",
              "      <td>MacBook Pro</td>\n",
              "      <td>Ultrabook</td>\n",
              "      <td>15.4</td>\n",
              "      <td>IPS Panel Retina Display 2880x1800</td>\n",
              "      <td>Intel Core i7 2.7GHz</td>\n",
              "      <td>16GB</td>\n",
              "      <td>512GB SSD</td>\n",
              "      <td>AMD Radeon Pro 455</td>\n",
              "      <td>macOS</td>\n",
              "      <td>1.83kg</td>\n",
              "      <td>2537.45</td>\n",
              "    </tr>\n",
              "    <tr>\n",
              "      <th>5</th>\n",
              "      <td>Apple</td>\n",
              "      <td>MacBook Pro</td>\n",
              "      <td>Ultrabook</td>\n",
              "      <td>13.3</td>\n",
              "      <td>IPS Panel Retina Display 2560x1600</td>\n",
              "      <td>Intel Core i5 3.1GHz</td>\n",
              "      <td>8GB</td>\n",
              "      <td>256GB SSD</td>\n",
              "      <td>Intel Iris Plus Graphics 650</td>\n",
              "      <td>macOS</td>\n",
              "      <td>1.37kg</td>\n",
              "      <td>1803.60</td>\n",
              "    </tr>\n",
              "    <tr>\n",
              "      <th>...</th>\n",
              "      <td>...</td>\n",
              "      <td>...</td>\n",
              "      <td>...</td>\n",
              "      <td>...</td>\n",
              "      <td>...</td>\n",
              "      <td>...</td>\n",
              "      <td>...</td>\n",
              "      <td>...</td>\n",
              "      <td>...</td>\n",
              "      <td>...</td>\n",
              "      <td>...</td>\n",
              "      <td>...</td>\n",
              "    </tr>\n",
              "    <tr>\n",
              "      <th>1316</th>\n",
              "      <td>Lenovo</td>\n",
              "      <td>Yoga 500-14ISK</td>\n",
              "      <td>2 in 1 Convertible</td>\n",
              "      <td>14.0</td>\n",
              "      <td>IPS Panel Full HD / Touchscreen 1920x1080</td>\n",
              "      <td>Intel Core i7 6500U 2.5GHz</td>\n",
              "      <td>4GB</td>\n",
              "      <td>128GB SSD</td>\n",
              "      <td>Intel HD Graphics 520</td>\n",
              "      <td>Windows 10</td>\n",
              "      <td>1.8kg</td>\n",
              "      <td>638.00</td>\n",
              "    </tr>\n",
              "    <tr>\n",
              "      <th>1317</th>\n",
              "      <td>Lenovo</td>\n",
              "      <td>Yoga 900-13ISK</td>\n",
              "      <td>2 in 1 Convertible</td>\n",
              "      <td>13.3</td>\n",
              "      <td>IPS Panel Quad HD+ / Touchscreen 3200x1800</td>\n",
              "      <td>Intel Core i7 6500U 2.5GHz</td>\n",
              "      <td>16GB</td>\n",
              "      <td>512GB SSD</td>\n",
              "      <td>Intel HD Graphics 520</td>\n",
              "      <td>Windows 10</td>\n",
              "      <td>1.3kg</td>\n",
              "      <td>1499.00</td>\n",
              "    </tr>\n",
              "    <tr>\n",
              "      <th>1318</th>\n",
              "      <td>Lenovo</td>\n",
              "      <td>IdeaPad 100S-14IBR</td>\n",
              "      <td>Notebook</td>\n",
              "      <td>14.0</td>\n",
              "      <td>1366x768</td>\n",
              "      <td>Intel Celeron Dual Core N3050 1.6GHz</td>\n",
              "      <td>2GB</td>\n",
              "      <td>64GB Flash Storage</td>\n",
              "      <td>Intel HD Graphics</td>\n",
              "      <td>Windows 10</td>\n",
              "      <td>1.5kg</td>\n",
              "      <td>229.00</td>\n",
              "    </tr>\n",
              "    <tr>\n",
              "      <th>1319</th>\n",
              "      <td>HP</td>\n",
              "      <td>15-AC110nv (i7-6500U/6GB/1TB/Radeon</td>\n",
              "      <td>Notebook</td>\n",
              "      <td>15.6</td>\n",
              "      <td>1366x768</td>\n",
              "      <td>Intel Core i7 6500U 2.5GHz</td>\n",
              "      <td>6GB</td>\n",
              "      <td>1TB HDD</td>\n",
              "      <td>AMD Radeon R5 M330</td>\n",
              "      <td>Windows 10</td>\n",
              "      <td>2.19kg</td>\n",
              "      <td>764.00</td>\n",
              "    </tr>\n",
              "    <tr>\n",
              "      <th>1320</th>\n",
              "      <td>Asus</td>\n",
              "      <td>X553SA-XX031T (N3050/4GB/500GB/W10)</td>\n",
              "      <td>Notebook</td>\n",
              "      <td>15.6</td>\n",
              "      <td>1366x768</td>\n",
              "      <td>Intel Celeron Dual Core N3050 1.6GHz</td>\n",
              "      <td>4GB</td>\n",
              "      <td>500GB HDD</td>\n",
              "      <td>Intel HD Graphics</td>\n",
              "      <td>Windows 10</td>\n",
              "      <td>2.2kg</td>\n",
              "      <td>369.00</td>\n",
              "    </tr>\n",
              "  </tbody>\n",
              "</table>\n",
              "<p>1303 rows × 12 columns</p>\n",
              "</div>"
            ],
            "text/plain": [
              "     Company                              Product  ...  Weight  Price_euros\n",
              "1      Apple                          MacBook Pro  ...  1.37kg      1339.69\n",
              "2      Apple                          Macbook Air  ...  1.34kg       898.94\n",
              "3         HP                               250 G6  ...  1.86kg       575.00\n",
              "4      Apple                          MacBook Pro  ...  1.83kg      2537.45\n",
              "5      Apple                          MacBook Pro  ...  1.37kg      1803.60\n",
              "...      ...                                  ...  ...     ...          ...\n",
              "1316  Lenovo                       Yoga 500-14ISK  ...   1.8kg       638.00\n",
              "1317  Lenovo                       Yoga 900-13ISK  ...   1.3kg      1499.00\n",
              "1318  Lenovo                   IdeaPad 100S-14IBR  ...   1.5kg       229.00\n",
              "1319      HP  15-AC110nv (i7-6500U/6GB/1TB/Radeon  ...  2.19kg       764.00\n",
              "1320    Asus  X553SA-XX031T (N3050/4GB/500GB/W10)  ...   2.2kg       369.00\n",
              "\n",
              "[1303 rows x 12 columns]"
            ]
          },
          "metadata": {
            "tags": []
          },
          "execution_count": 4
        }
      ]
    },
    {
      "cell_type": "code",
      "metadata": {
        "colab": {
          "base_uri": "https://localhost:8080/"
        },
        "id": "u6CeLOiRuRPT",
        "outputId": "7767e4ce-ede0-46e7-ed04-a5c91180611f"
      },
      "source": [
        "data.info()"
      ],
      "id": "u6CeLOiRuRPT",
      "execution_count": null,
      "outputs": [
        {
          "output_type": "stream",
          "text": [
            "<class 'pandas.core.frame.DataFrame'>\n",
            "Int64Index: 1303 entries, 1 to 1320\n",
            "Data columns (total 12 columns):\n",
            " #   Column            Non-Null Count  Dtype  \n",
            "---  ------            --------------  -----  \n",
            " 0   Company           1303 non-null   object \n",
            " 1   Product           1303 non-null   object \n",
            " 2   TypeName          1303 non-null   object \n",
            " 3   Inches            1303 non-null   float64\n",
            " 4   ScreenResolution  1303 non-null   object \n",
            " 5   Cpu               1303 non-null   object \n",
            " 6   Ram               1303 non-null   object \n",
            " 7   Memory            1303 non-null   object \n",
            " 8   Gpu               1303 non-null   object \n",
            " 9   OpSys             1303 non-null   object \n",
            " 10  Weight            1303 non-null   object \n",
            " 11  Price_euros       1303 non-null   float64\n",
            "dtypes: float64(2), object(10)\n",
            "memory usage: 132.3+ KB\n"
          ],
          "name": "stdout"
        }
      ]
    },
    {
      "cell_type": "markdown",
      "metadata": {
        "id": "kfLSg1Riuy9K"
      },
      "source": [
        "Check for any missing values that are present in the dataset :"
      ],
      "id": "kfLSg1Riuy9K"
    },
    {
      "cell_type": "code",
      "metadata": {
        "colab": {
          "base_uri": "https://localhost:8080/"
        },
        "id": "dMpjc4-ou1fL",
        "outputId": "4f506e98-3b7e-4d93-9c0d-454250291b77"
      },
      "source": [
        "data.isnull().sum() "
      ],
      "id": "dMpjc4-ou1fL",
      "execution_count": null,
      "outputs": [
        {
          "output_type": "execute_result",
          "data": {
            "text/plain": [
              "Company             0\n",
              "Product             0\n",
              "TypeName            0\n",
              "Inches              0\n",
              "ScreenResolution    0\n",
              "Cpu                 0\n",
              "Ram                 0\n",
              "Memory              0\n",
              "Gpu                 0\n",
              "OpSys               0\n",
              "Weight              0\n",
              "Price_euros         0\n",
              "dtype: int64"
            ]
          },
          "metadata": {
            "tags": []
          },
          "execution_count": 6
        }
      ]
    },
    {
      "cell_type": "markdown",
      "metadata": {
        "id": "aIRBZIndu7Dd"
      },
      "source": [
        "Plotting :"
      ],
      "id": "aIRBZIndu7Dd"
    },
    {
      "cell_type": "code",
      "metadata": {
        "colab": {
          "base_uri": "https://localhost:8080/",
          "height": 402
        },
        "id": "4ade5487",
        "outputId": "3d01b8bf-11d7-4ee0-f893-3833d187a979"
      },
      "source": [
        "sns.catplot(x = \"Price_euros\",y = 'TypeName',data = data, hue = \"Company\",palette=\"Set3\")\n"
      ],
      "id": "4ade5487",
      "execution_count": null,
      "outputs": [
        {
          "output_type": "execute_result",
          "data": {
            "text/plain": [
              "<seaborn.axisgrid.FacetGrid at 0x7fa7d0ecdb90>"
            ]
          },
          "metadata": {
            "tags": []
          },
          "execution_count": 7
        },
        {
          "output_type": "display_data",
          "data": {
            "image/png": "[encoded data removed]",
            "text/plain": [
              "<Figure size 447.25x360 with 1 Axes>"
            ]
          },
          "metadata": {
            "tags": [],
            "needs_background": "light"
          }
        }
      ]
    },
    {
      "cell_type": "code",
      "metadata": {
        "colab": {
          "base_uri": "https://localhost:8080/",
          "height": 402
        },
        "id": "xTT56zWzucMp",
        "outputId": "83e6191b-13fa-40a8-b998-694b5f7bc66b"
      },
      "source": [
        "sns.catplot(x = \"Price_euros\",y = 'Ram',data = data, hue = \"Company\",palette=\"Set3\")\n"
      ],
      "id": "xTT56zWzucMp",
      "execution_count": null,
      "outputs": [
        {
          "output_type": "execute_result",
          "data": {
            "text/plain": [
              "<seaborn.axisgrid.FacetGrid at 0x7fa7bc23c790>"
            ]
          },
          "metadata": {
            "tags": []
          },
          "execution_count": 8
        },
        {
          "output_type": "display_data",
          "data": {
            "image/png": "[encoded data removed]",
            "text/plain": [
              "<Figure size 447.25x360 with 1 Axes>"
            ]
          },
          "metadata": {
            "tags": [],
            "needs_background": "light"
          }
        }
      ]
    },
    {
      "cell_type": "code",
      "metadata": {
        "colab": {
          "base_uri": "https://localhost:8080/",
          "height": 402
        },
        "id": "CQnendmPuhxd",
        "outputId": "3448542c-c3f4-4750-f231-583e199d88b4"
      },
      "source": [
        "sns.catplot(x = \"Price_euros\",y = 'Company',data = data, hue = \"Company\",palette=\"Set3\")"
      ],
      "id": "CQnendmPuhxd",
      "execution_count": null,
      "outputs": [
        {
          "output_type": "execute_result",
          "data": {
            "text/plain": [
              "<seaborn.axisgrid.FacetGrid at 0x7fa7a880d890>"
            ]
          },
          "metadata": {
            "tags": []
          },
          "execution_count": 9
        },
        {
          "output_type": "display_data",
          "data": {
            "image/png": "[encoded data removed]",
            "text/plain": [
              "<Figure size 447.25x360 with 1 Axes>"
            ]
          },
          "metadata": {
            "tags": [],
            "needs_background": "light"
          }
        }
      ]
    },
    {
      "cell_type": "code",
      "metadata": {
        "colab": {
          "base_uri": "https://localhost:8080/",
          "height": 628
        },
        "id": "598071a7",
        "outputId": "f5328431-6781-4ced-dc44-3a4bab4c5f5a"
      },
      "source": [
        "plt.figure(figsize=(15,10))\n",
        "sns.set_theme(style=\"whitegrid\")\n",
        "sns.boxplot(x='TypeName',y='Price_euros',data = data,palette='gist_rainbow',linewidth=5)"
      ],
      "id": "598071a7",
      "execution_count": null,
      "outputs": [
        {
          "output_type": "execute_result",
          "data": {
            "text/plain": [
              "<matplotlib.axes._subplots.AxesSubplot at 0x7f19eced8510>"
            ]
          },
          "metadata": {
            "tags": []
          },
          "execution_count": 18
        },
        {
          "output_type": "display_data",
          "data": {
            "image/png": "[encoded data removed]",
            "text/plain": [
              "<Figure size 1080x720 with 1 Axes>"
            ]
          },
          "metadata": {
            "tags": []
          }
        }
      ]
    },
    {
      "cell_type": "markdown",
      "metadata": {
        "id": "7150cf65"
      },
      "source": [
        "Dealing with outliers :\n"
      ],
      "id": "7150cf65"
    },
    {
      "cell_type": "code",
      "metadata": {
        "id": "08d3388c"
      },
      "source": [
        "Q1 = data['Price_euros'].quantile(0.25)\n",
        "Q3 = data['Price_euros'].quantile(0.75)\n",
        "IQR = Q3 - Q1\n",
        "filter = (data['Price_euros'] >= Q1 - 1.5 * IQR) & (data['Price_euros'] <= Q3 + 1.5 *IQR)\n",
        "data = data.loc[filter]"
      ],
      "id": "08d3388c",
      "execution_count": null,
      "outputs": []
    },
    {
      "cell_type": "code",
      "metadata": {
        "colab": {
          "base_uri": "https://localhost:8080/",
          "height": 628
        },
        "id": "3a170d37",
        "outputId": "d3809b9d-771a-448f-f3d0-897f6147f5d0"
      },
      "source": [
        "plt.figure(figsize=(15,10))\n",
        "sns.set_theme(style=\"whitegrid\")\n",
        "sns.boxplot(x='TypeName',y='Price_euros',data = data,palette='gist_rainbow',linewidth=5)"
      ],
      "id": "3a170d37",
      "execution_count": null,
      "outputs": [
        {
          "output_type": "execute_result",
          "data": {
            "text/plain": [
              "<matplotlib.axes._subplots.AxesSubplot at 0x7f19eb0e17d0>"
            ]
          },
          "metadata": {
            "tags": []
          },
          "execution_count": 20
        },
        {
          "output_type": "display_data",
          "data": {
            "image/png": "[encoded data removed]",
            "text/plain": [
              "<Figure size 1080x720 with 1 Axes>"
            ]
          },
          "metadata": {
            "tags": []
          }
        }
      ]
    },
    {
      "cell_type": "markdown",
      "metadata": {
        "id": "2eb6e724"
      },
      "source": [
        "Process of Data Cleaning:"
      ],
      "id": "2eb6e724"
    },
    {
      "cell_type": "code",
      "metadata": {
        "id": "6a13f166"
      },
      "source": [
        "\n",
        "def sufrem(clmn):\n",
        "    clmn = clmn.str.replace(r'TB', '')\n",
        "    clmn = clmn.str.replace(r'GB', '').fillna(0)\n",
        "    return clmn\n",
        "def TBhandle(clmn):\n",
        "    if clmn < 6 :\n",
        "        return clmn*1024\n",
        "    else :\n",
        "        return clmn"
      ],
      "id": "6a13f166",
      "execution_count": null,
      "outputs": []
    },
    {
      "cell_type": "code",
      "metadata": {
        "colab": {
          "base_uri": "https://localhost:8080/"
        },
        "id": "86836247",
        "outputId": "374247dc-b67c-4c75-994c-9f89447e8329"
      },
      "source": [
        "def clean(df):\n",
        "    df['Ram'] = df['Ram'].replace('[GB]', '', regex=True)   \n",
        "    df['Ram'] = pd.to_numeric(df['Ram'])\n",
        "    df['Weight'] = df['Weight'].replace('[kg]', '', regex=True)\n",
        "    df['Weight'] = pd.to_numeric(df['Weight'])\n",
        "    df['cpu_speed(GHz)'] = pd.to_numeric(df['Cpu'].str.split(' ').str[-1].replace('[GHz]', '', regex=True))\n",
        "    df['cpu_manuf'] = df['Cpu'].str.split(' ').str[0]\n",
        "    df['Horizontal'] = pd.to_numeric(df['ScreenResolution'].str.split(' ').str[-1].str.split('x').str[0])\n",
        "    df['Vertical'] = pd.to_numeric(df['ScreenResolution'].str.split(' ').str[-1].str.split('x').str[1])\n",
        "    t_arr = []\n",
        "    for i in df['ScreenResolution'] :                      \n",
        "        s = i.split(' ')\n",
        "        if \"Touchscreen\" in s:\n",
        "            touch = True\n",
        "        else :\n",
        "            touch = False\n",
        "        t_arr.append(touch)\n",
        "    df['Touch'] = pd.to_numeric(t_arr)\n",
        "    SSD = []\n",
        "    HDD = []\n",
        "    Hybrid = []\n",
        "    Flash = []\n",
        "    for i in df['Memory']:                                \n",
        "        dual_s = i.split(' ')\n",
        "        if \"SSD\" in dual_s :\n",
        "            SSD_val = dual_s[dual_s.index('SSD')-1]\n",
        "            SSD.append(SSD_val)\n",
        "        else :\n",
        "            SSD.append('0')\n",
        "        if \"HDD\" in dual_s :\n",
        "            HDD_val = dual_s[dual_s.index(\"HDD\")-1]\n",
        "            HDD.append(HDD_val)\n",
        "        else :\n",
        "            HDD.append('0')\n",
        "        if \"Flash\" in dual_s :\n",
        "            Flash_val = dual_s[dual_s.index(\"Flash\")-1]\n",
        "            Flash.append(Flash_val)\n",
        "        else :\n",
        "            Flash.append('0')\n",
        "        if \"Hybrid\" in dual_s :\n",
        "            Hybrid_val = dual_s[dual_s.index(\"Hybrid\")-1]\n",
        "            Hybrid.append(Hybrid_val)\n",
        "        else :\n",
        "            Hybrid.append('0')\n",
        "    df['Flash'] = Flash\n",
        "    df['HDD'] = HDD\n",
        "    df['SSD'] = SSD\n",
        "    df['Hybrid'] = Hybrid\n",
        "    df[['HDD','SSD','Flash','Hybrid']] = df[['HDD','SSD','Flash','Hybrid']].apply(sufrem)\n",
        "    df['HDD'] = pd.to_numeric(df['HDD']).apply(TBhandle)\n",
        "    df['SSD'] = pd.to_numeric(df['SSD']).apply(TBhandle)\n",
        "    df['Flash'] = pd.to_numeric(df['Flash']).apply(TBhandle)\n",
        "    df['Hybrid'] = pd.to_numeric(df['Hybrid']).apply(TBhandle)\n",
        "    cpu_dummies = pd.get_dummies(df['cpu_manuf'], prefix = 'cpu')\n",
        "    opsys_dummies = pd.get_dummies(df['OpSys'], prefix = 'op')\n",
        "    type_dummies = pd.get_dummies(df['TypeName'], prefix = 'Type')\n",
        "    df = pd.concat([cpu_dummies, type_dummies , opsys_dummies, df], axis=1)\n",
        "    df.drop('cpu_manuf',axis = 1, inplace = True)\n",
        "    df.drop('OpSys',axis = 1, inplace = True)\n",
        "    df.drop('TypeName',axis = 1, inplace = True)\n",
        "    df.drop(columns=['Memory','Company','Product','ScreenResolution','Cpu'], inplace = True)\n",
        "    return df\n",
        "\n",
        "df = clean(data)"
      ],
      "id": "86836247",
      "execution_count": null,
      "outputs": [
        {
          "output_type": "stream",
          "text": [
            "/usr/local/lib/python3.7/dist-packages/ipykernel_launcher.py:2: SettingWithCopyWarning: \n",
            "A value is trying to be set on a copy of a slice from a DataFrame.\n",
            "Try using .loc[row_indexer,col_indexer] = value instead\n",
            "\n",
            "See the caveats in the documentation: https://pandas.pydata.org/pandas-docs/stable/user_guide/indexing.html#returning-a-view-versus-a-copy\n",
            "  \n",
            "/usr/local/lib/python3.7/dist-packages/ipykernel_launcher.py:3: SettingWithCopyWarning: \n",
            "A value is trying to be set on a copy of a slice from a DataFrame.\n",
            "Try using .loc[row_indexer,col_indexer] = value instead\n",
            "\n",
            "See the caveats in the documentation: https://pandas.pydata.org/pandas-docs/stable/user_guide/indexing.html#returning-a-view-versus-a-copy\n",
            "  This is separate from the ipykernel package so we can avoid doing imports until\n",
            "/usr/local/lib/python3.7/dist-packages/ipykernel_launcher.py:4: SettingWithCopyWarning: \n",
            "A value is trying to be set on a copy of a slice from a DataFrame.\n",
            "Try using .loc[row_indexer,col_indexer] = value instead\n",
            "\n",
            "See the caveats in the documentation: https://pandas.pydata.org/pandas-docs/stable/user_guide/indexing.html#returning-a-view-versus-a-copy\n",
            "  after removing the cwd from sys.path.\n",
            "/usr/local/lib/python3.7/dist-packages/ipykernel_launcher.py:5: SettingWithCopyWarning: \n",
            "A value is trying to be set on a copy of a slice from a DataFrame.\n",
            "Try using .loc[row_indexer,col_indexer] = value instead\n",
            "\n",
            "See the caveats in the documentation: https://pandas.pydata.org/pandas-docs/stable/user_guide/indexing.html#returning-a-view-versus-a-copy\n",
            "  \"\"\"\n",
            "/usr/local/lib/python3.7/dist-packages/ipykernel_launcher.py:6: SettingWithCopyWarning: \n",
            "A value is trying to be set on a copy of a slice from a DataFrame.\n",
            "Try using .loc[row_indexer,col_indexer] = value instead\n",
            "\n",
            "See the caveats in the documentation: https://pandas.pydata.org/pandas-docs/stable/user_guide/indexing.html#returning-a-view-versus-a-copy\n",
            "  \n",
            "/usr/local/lib/python3.7/dist-packages/ipykernel_launcher.py:7: SettingWithCopyWarning: \n",
            "A value is trying to be set on a copy of a slice from a DataFrame.\n",
            "Try using .loc[row_indexer,col_indexer] = value instead\n",
            "\n",
            "See the caveats in the documentation: https://pandas.pydata.org/pandas-docs/stable/user_guide/indexing.html#returning-a-view-versus-a-copy\n",
            "  import sys\n",
            "/usr/local/lib/python3.7/dist-packages/ipykernel_launcher.py:8: SettingWithCopyWarning: \n",
            "A value is trying to be set on a copy of a slice from a DataFrame.\n",
            "Try using .loc[row_indexer,col_indexer] = value instead\n",
            "\n",
            "See the caveats in the documentation: https://pandas.pydata.org/pandas-docs/stable/user_guide/indexing.html#returning-a-view-versus-a-copy\n",
            "  \n",
            "/usr/local/lib/python3.7/dist-packages/ipykernel_launcher.py:9: SettingWithCopyWarning: \n",
            "A value is trying to be set on a copy of a slice from a DataFrame.\n",
            "Try using .loc[row_indexer,col_indexer] = value instead\n",
            "\n",
            "See the caveats in the documentation: https://pandas.pydata.org/pandas-docs/stable/user_guide/indexing.html#returning-a-view-versus-a-copy\n",
            "  if __name__ == '__main__':\n",
            "/usr/local/lib/python3.7/dist-packages/ipykernel_launcher.py:18: SettingWithCopyWarning: \n",
            "A value is trying to be set on a copy of a slice from a DataFrame.\n",
            "Try using .loc[row_indexer,col_indexer] = value instead\n",
            "\n",
            "See the caveats in the documentation: https://pandas.pydata.org/pandas-docs/stable/user_guide/indexing.html#returning-a-view-versus-a-copy\n",
            "/usr/local/lib/python3.7/dist-packages/ipykernel_launcher.py:45: SettingWithCopyWarning: \n",
            "A value is trying to be set on a copy of a slice from a DataFrame.\n",
            "Try using .loc[row_indexer,col_indexer] = value instead\n",
            "\n",
            "See the caveats in the documentation: https://pandas.pydata.org/pandas-docs/stable/user_guide/indexing.html#returning-a-view-versus-a-copy\n",
            "/usr/local/lib/python3.7/dist-packages/ipykernel_launcher.py:46: SettingWithCopyWarning: \n",
            "A value is trying to be set on a copy of a slice from a DataFrame.\n",
            "Try using .loc[row_indexer,col_indexer] = value instead\n",
            "\n",
            "See the caveats in the documentation: https://pandas.pydata.org/pandas-docs/stable/user_guide/indexing.html#returning-a-view-versus-a-copy\n",
            "/usr/local/lib/python3.7/dist-packages/ipykernel_launcher.py:47: SettingWithCopyWarning: \n",
            "A value is trying to be set on a copy of a slice from a DataFrame.\n",
            "Try using .loc[row_indexer,col_indexer] = value instead\n",
            "\n",
            "See the caveats in the documentation: https://pandas.pydata.org/pandas-docs/stable/user_guide/indexing.html#returning-a-view-versus-a-copy\n",
            "/usr/local/lib/python3.7/dist-packages/ipykernel_launcher.py:48: SettingWithCopyWarning: \n",
            "A value is trying to be set on a copy of a slice from a DataFrame.\n",
            "Try using .loc[row_indexer,col_indexer] = value instead\n",
            "\n",
            "See the caveats in the documentation: https://pandas.pydata.org/pandas-docs/stable/user_guide/indexing.html#returning-a-view-versus-a-copy\n",
            "/usr/local/lib/python3.7/dist-packages/pandas/core/frame.py:3069: SettingWithCopyWarning: \n",
            "A value is trying to be set on a copy of a slice from a DataFrame.\n",
            "Try using .loc[row_indexer,col_indexer] = value instead\n",
            "\n",
            "See the caveats in the documentation: https://pandas.pydata.org/pandas-docs/stable/user_guide/indexing.html#returning-a-view-versus-a-copy\n",
            "  self[k1] = value[k2]\n",
            "/usr/local/lib/python3.7/dist-packages/ipykernel_launcher.py:50: SettingWithCopyWarning: \n",
            "A value is trying to be set on a copy of a slice from a DataFrame.\n",
            "Try using .loc[row_indexer,col_indexer] = value instead\n",
            "\n",
            "See the caveats in the documentation: https://pandas.pydata.org/pandas-docs/stable/user_guide/indexing.html#returning-a-view-versus-a-copy\n",
            "/usr/local/lib/python3.7/dist-packages/ipykernel_launcher.py:51: SettingWithCopyWarning: \n",
            "A value is trying to be set on a copy of a slice from a DataFrame.\n",
            "Try using .loc[row_indexer,col_indexer] = value instead\n",
            "\n",
            "See the caveats in the documentation: https://pandas.pydata.org/pandas-docs/stable/user_guide/indexing.html#returning-a-view-versus-a-copy\n",
            "/usr/local/lib/python3.7/dist-packages/ipykernel_launcher.py:52: SettingWithCopyWarning: \n",
            "A value is trying to be set on a copy of a slice from a DataFrame.\n",
            "Try using .loc[row_indexer,col_indexer] = value instead\n",
            "\n",
            "See the caveats in the documentation: https://pandas.pydata.org/pandas-docs/stable/user_guide/indexing.html#returning-a-view-versus-a-copy\n",
            "/usr/local/lib/python3.7/dist-packages/ipykernel_launcher.py:53: SettingWithCopyWarning: \n",
            "A value is trying to be set on a copy of a slice from a DataFrame.\n",
            "Try using .loc[row_indexer,col_indexer] = value instead\n",
            "\n",
            "See the caveats in the documentation: https://pandas.pydata.org/pandas-docs/stable/user_guide/indexing.html#returning-a-view-versus-a-copy\n"
          ],
          "name": "stderr"
        }
      ]
    },
    {
      "cell_type": "code",
      "metadata": {
        "colab": {
          "base_uri": "https://localhost:8080/",
          "height": 790
        },
        "id": "1c63f668",
        "outputId": "e02a5ad3-2c91-4e6d-f67d-ec03a9952ed9"
      },
      "source": [
        "corrmat = df.corr()\n",
        "fig, ax = plt.subplots()\n",
        "fig.set_size_inches(11,11)\n",
        "sns.heatmap(corrmat,cmap = \"tab20\",linewidths = 2,linecolor = \"yellow\")"
      ],
      "id": "1c63f668",
      "execution_count": null,
      "outputs": [
        {
          "output_type": "execute_result",
          "data": {
            "text/plain": [
              "<matplotlib.axes._subplots.AxesSubplot at 0x7f19e4b37c90>"
            ]
          },
          "metadata": {
            "tags": []
          },
          "execution_count": 57
        },
        {
          "output_type": "display_data",
          "data": {
            "image/png": "[encoded data removed]",
            "text/plain": [
              "<Figure size 792x792 with 2 Axes>"
            ]
          },
          "metadata": {
            "tags": []
          }
        }
      ]
    },
    {
      "cell_type": "markdown",
      "metadata": {
        "id": "aUK5T_AAvz-S"
      },
      "source": [
        "Target Encoding :"
      ],
      "id": "aUK5T_AAvz-S"
    },
    {
      "cell_type": "code",
      "metadata": {
        "colab": {
          "base_uri": "https://localhost:8080/"
        },
        "id": "f7057e6e",
        "outputId": "897e98fd-1ddf-4a11-9d6c-ad75d14695f0"
      },
      "source": [
        "encoder=ce.TargetEncoder(cols='Gpu')\n",
        "gpu_encoded = encoder.fit_transform(df['Gpu'],df['Price_euros'])\n",
        "df['Gpu'] = gpu_encoded['Gpu']"
      ],
      "id": "f7057e6e",
      "execution_count": null,
      "outputs": [
        {
          "output_type": "stream",
          "text": [
            "/usr/local/lib/python3.7/dist-packages/category_encoders/utils.py:21: FutureWarning: is_categorical is deprecated and will be removed in a future version.  Use is_categorical_dtype instead\n",
            "  elif pd.api.types.is_categorical(cols):\n"
          ],
          "name": "stderr"
        }
      ]
    },
    {
      "cell_type": "code",
      "metadata": {
        "id": "e5e7f664"
      },
      "source": [
        "temp1 = df['Gpu']\n",
        "temp2 = data['Gpu']\n",
        "gpudf = pd.DataFrame()\n",
        "gpudf['Gpu']  = temp2\n",
        "gpudf['val']  = temp1"
      ],
      "id": "e5e7f664",
      "execution_count": null,
      "outputs": []
    },
    {
      "cell_type": "code",
      "metadata": {
        "colab": {
          "base_uri": "https://localhost:8080/",
          "height": 240
        },
        "id": "ba884679",
        "outputId": "b3dc3d64-b120-438b-8601-45d524595a78"
      },
      "source": [
        "df.head()"
      ],
      "id": "ba884679",
      "execution_count": null,
      "outputs": [
        {
          "output_type": "execute_result",
          "data": {
            "text/html": [
              "<div>\n",
              "<style scoped>\n",
              "    .dataframe tbody tr th:only-of-type {\n",
              "        vertical-align: middle;\n",
              "    }\n",
              "\n",
              "    .dataframe tbody tr th {\n",
              "        vertical-align: top;\n",
              "    }\n",
              "\n",
              "    .dataframe thead th {\n",
              "        text-align: right;\n",
              "    }\n",
              "</style>\n",
              "<table border=\"1\" class=\"dataframe\">\n",
              "  <thead>\n",
              "    <tr style=\"text-align: right;\">\n",
              "      <th></th>\n",
              "      <th>cpu_AMD</th>\n",
              "      <th>cpu_Intel</th>\n",
              "      <th>cpu_Samsung</th>\n",
              "      <th>Type_2 in 1 Convertible</th>\n",
              "      <th>Type_Gaming</th>\n",
              "      <th>Type_Netbook</th>\n",
              "      <th>Type_Notebook</th>\n",
              "      <th>Type_Ultrabook</th>\n",
              "      <th>Type_Workstation</th>\n",
              "      <th>op_Android</th>\n",
              "      <th>op_Chrome OS</th>\n",
              "      <th>op_Linux</th>\n",
              "      <th>op_Mac OS X</th>\n",
              "      <th>op_No OS</th>\n",
              "      <th>op_Windows 10</th>\n",
              "      <th>op_Windows 10 S</th>\n",
              "      <th>op_Windows 7</th>\n",
              "      <th>op_macOS</th>\n",
              "      <th>Inches</th>\n",
              "      <th>Ram</th>\n",
              "      <th>Gpu</th>\n",
              "      <th>Weight</th>\n",
              "      <th>Price_euros</th>\n",
              "      <th>cpu_speed(GHz)</th>\n",
              "      <th>Horizontal</th>\n",
              "      <th>Vertical</th>\n",
              "      <th>Touch</th>\n",
              "      <th>Flash</th>\n",
              "      <th>HDD</th>\n",
              "      <th>SSD</th>\n",
              "      <th>Hybrid</th>\n",
              "    </tr>\n",
              "  </thead>\n",
              "  <tbody>\n",
              "    <tr>\n",
              "      <th>1</th>\n",
              "      <td>0</td>\n",
              "      <td>1</td>\n",
              "      <td>0</td>\n",
              "      <td>0</td>\n",
              "      <td>0</td>\n",
              "      <td>0</td>\n",
              "      <td>0</td>\n",
              "      <td>1</td>\n",
              "      <td>0</td>\n",
              "      <td>0</td>\n",
              "      <td>0</td>\n",
              "      <td>0</td>\n",
              "      <td>0</td>\n",
              "      <td>0</td>\n",
              "      <td>0</td>\n",
              "      <td>0</td>\n",
              "      <td>0</td>\n",
              "      <td>1</td>\n",
              "      <td>13.3</td>\n",
              "      <td>8</td>\n",
              "      <td>1763.379069</td>\n",
              "      <td>1.37</td>\n",
              "      <td>1339.69</td>\n",
              "      <td>2.3</td>\n",
              "      <td>2560</td>\n",
              "      <td>1600</td>\n",
              "      <td>False</td>\n",
              "      <td>0</td>\n",
              "      <td>0.0</td>\n",
              "      <td>128</td>\n",
              "      <td>0.0</td>\n",
              "    </tr>\n",
              "    <tr>\n",
              "      <th>2</th>\n",
              "      <td>0</td>\n",
              "      <td>1</td>\n",
              "      <td>0</td>\n",
              "      <td>0</td>\n",
              "      <td>0</td>\n",
              "      <td>0</td>\n",
              "      <td>0</td>\n",
              "      <td>1</td>\n",
              "      <td>0</td>\n",
              "      <td>0</td>\n",
              "      <td>0</td>\n",
              "      <td>0</td>\n",
              "      <td>0</td>\n",
              "      <td>0</td>\n",
              "      <td>0</td>\n",
              "      <td>0</td>\n",
              "      <td>0</td>\n",
              "      <td>1</td>\n",
              "      <td>13.3</td>\n",
              "      <td>8</td>\n",
              "      <td>1023.580202</td>\n",
              "      <td>1.34</td>\n",
              "      <td>898.94</td>\n",
              "      <td>1.8</td>\n",
              "      <td>1440</td>\n",
              "      <td>900</td>\n",
              "      <td>False</td>\n",
              "      <td>128</td>\n",
              "      <td>0.0</td>\n",
              "      <td>0</td>\n",
              "      <td>0.0</td>\n",
              "    </tr>\n",
              "    <tr>\n",
              "      <th>3</th>\n",
              "      <td>0</td>\n",
              "      <td>1</td>\n",
              "      <td>0</td>\n",
              "      <td>0</td>\n",
              "      <td>0</td>\n",
              "      <td>0</td>\n",
              "      <td>1</td>\n",
              "      <td>0</td>\n",
              "      <td>0</td>\n",
              "      <td>0</td>\n",
              "      <td>0</td>\n",
              "      <td>0</td>\n",
              "      <td>0</td>\n",
              "      <td>1</td>\n",
              "      <td>0</td>\n",
              "      <td>0</td>\n",
              "      <td>0</td>\n",
              "      <td>0</td>\n",
              "      <td>15.6</td>\n",
              "      <td>8</td>\n",
              "      <td>1135.158321</td>\n",
              "      <td>1.86</td>\n",
              "      <td>575.00</td>\n",
              "      <td>2.5</td>\n",
              "      <td>1920</td>\n",
              "      <td>1080</td>\n",
              "      <td>False</td>\n",
              "      <td>0</td>\n",
              "      <td>0.0</td>\n",
              "      <td>256</td>\n",
              "      <td>0.0</td>\n",
              "    </tr>\n",
              "    <tr>\n",
              "      <th>4</th>\n",
              "      <td>0</td>\n",
              "      <td>1</td>\n",
              "      <td>0</td>\n",
              "      <td>0</td>\n",
              "      <td>0</td>\n",
              "      <td>0</td>\n",
              "      <td>0</td>\n",
              "      <td>1</td>\n",
              "      <td>0</td>\n",
              "      <td>0</td>\n",
              "      <td>0</td>\n",
              "      <td>0</td>\n",
              "      <td>0</td>\n",
              "      <td>0</td>\n",
              "      <td>0</td>\n",
              "      <td>0</td>\n",
              "      <td>0</td>\n",
              "      <td>1</td>\n",
              "      <td>15.4</td>\n",
              "      <td>16</td>\n",
              "      <td>1070.108846</td>\n",
              "      <td>1.83</td>\n",
              "      <td>2537.45</td>\n",
              "      <td>2.7</td>\n",
              "      <td>2880</td>\n",
              "      <td>1800</td>\n",
              "      <td>False</td>\n",
              "      <td>0</td>\n",
              "      <td>0.0</td>\n",
              "      <td>512</td>\n",
              "      <td>0.0</td>\n",
              "    </tr>\n",
              "    <tr>\n",
              "      <th>5</th>\n",
              "      <td>0</td>\n",
              "      <td>1</td>\n",
              "      <td>0</td>\n",
              "      <td>0</td>\n",
              "      <td>0</td>\n",
              "      <td>0</td>\n",
              "      <td>0</td>\n",
              "      <td>1</td>\n",
              "      <td>0</td>\n",
              "      <td>0</td>\n",
              "      <td>0</td>\n",
              "      <td>0</td>\n",
              "      <td>0</td>\n",
              "      <td>0</td>\n",
              "      <td>0</td>\n",
              "      <td>0</td>\n",
              "      <td>0</td>\n",
              "      <td>1</td>\n",
              "      <td>13.3</td>\n",
              "      <td>8</td>\n",
              "      <td>1692.744971</td>\n",
              "      <td>1.37</td>\n",
              "      <td>1803.60</td>\n",
              "      <td>3.1</td>\n",
              "      <td>2560</td>\n",
              "      <td>1600</td>\n",
              "      <td>False</td>\n",
              "      <td>0</td>\n",
              "      <td>0.0</td>\n",
              "      <td>256</td>\n",
              "      <td>0.0</td>\n",
              "    </tr>\n",
              "  </tbody>\n",
              "</table>\n",
              "</div>"
            ],
            "text/plain": [
              "   cpu_AMD  cpu_Intel  cpu_Samsung  ...  HDD  SSD  Hybrid\n",
              "1        0          1            0  ...  0.0  128     0.0\n",
              "2        0          1            0  ...  0.0    0     0.0\n",
              "3        0          1            0  ...  0.0  256     0.0\n",
              "4        0          1            0  ...  0.0  512     0.0\n",
              "5        0          1            0  ...  0.0  256     0.0\n",
              "\n",
              "[5 rows x 31 columns]"
            ]
          },
          "metadata": {
            "tags": []
          },
          "execution_count": 29
        }
      ]
    },
    {
      "cell_type": "code",
      "metadata": {
        "colab": {
          "base_uri": "https://localhost:8080/"
        },
        "id": "eb100e95",
        "outputId": "418f32ff-d5b7-418f-effe-20d9188d4246"
      },
      "source": [
        "df.info()"
      ],
      "id": "eb100e95",
      "execution_count": null,
      "outputs": [
        {
          "output_type": "stream",
          "text": [
            "<class 'pandas.core.frame.DataFrame'>\n",
            "Int64Index: 1274 entries, 1 to 1320\n",
            "Data columns (total 31 columns):\n",
            " #   Column                   Non-Null Count  Dtype  \n",
            "---  ------                   --------------  -----  \n",
            " 0   cpu_AMD                  1274 non-null   uint8  \n",
            " 1   cpu_Intel                1274 non-null   uint8  \n",
            " 2   cpu_Samsung              1274 non-null   uint8  \n",
            " 3   Type_2 in 1 Convertible  1274 non-null   uint8  \n",
            " 4   Type_Gaming              1274 non-null   uint8  \n",
            " 5   Type_Netbook             1274 non-null   uint8  \n",
            " 6   Type_Notebook            1274 non-null   uint8  \n",
            " 7   Type_Ultrabook           1274 non-null   uint8  \n",
            " 8   Type_Workstation         1274 non-null   uint8  \n",
            " 9   op_Android               1274 non-null   uint8  \n",
            " 10  op_Chrome OS             1274 non-null   uint8  \n",
            " 11  op_Linux                 1274 non-null   uint8  \n",
            " 12  op_Mac OS X              1274 non-null   uint8  \n",
            " 13  op_No OS                 1274 non-null   uint8  \n",
            " 14  op_Windows 10            1274 non-null   uint8  \n",
            " 15  op_Windows 10 S          1274 non-null   uint8  \n",
            " 16  op_Windows 7             1274 non-null   uint8  \n",
            " 17  op_macOS                 1274 non-null   uint8  \n",
            " 18  Inches                   1274 non-null   float64\n",
            " 19  Ram                      1274 non-null   int64  \n",
            " 20  Gpu                      1274 non-null   float64\n",
            " 21  Weight                   1274 non-null   float64\n",
            " 22  Price_euros              1274 non-null   float64\n",
            " 23  cpu_speed(GHz)           1274 non-null   float64\n",
            " 24  Horizontal               1274 non-null   int64  \n",
            " 25  Vertical                 1274 non-null   int64  \n",
            " 26  Touch                    1274 non-null   bool   \n",
            " 27  Flash                    1274 non-null   int64  \n",
            " 28  HDD                      1274 non-null   float64\n",
            " 29  SSD                      1274 non-null   int64  \n",
            " 30  Hybrid                   1274 non-null   float64\n",
            "dtypes: bool(1), float64(7), int64(5), uint8(18)\n",
            "memory usage: 193.0 KB\n"
          ],
          "name": "stdout"
        }
      ]
    },
    {
      "cell_type": "markdown",
      "metadata": {
        "id": "9b00d2a3"
      },
      "source": [
        "Building a Model :"
      ],
      "id": "9b00d2a3"
    },
    {
      "cell_type": "code",
      "metadata": {
        "id": "1f28b79f"
      },
      "source": [
        "y = (df['Price_euros'])\n",
        "X = np.array(df.drop(['Price_euros'],1))"
      ],
      "id": "1f28b79f",
      "execution_count": null,
      "outputs": []
    },
    {
      "cell_type": "code",
      "metadata": {
        "id": "d708e334"
      },
      "source": [
        "X_train , X_test , y_train , y_test = model_selection.train_test_split(X , y , test_size = 0.2, random_state = 22)"
      ],
      "id": "d708e334",
      "execution_count": null,
      "outputs": []
    },
    {
      "cell_type": "markdown",
      "metadata": {
        "id": "f14af406"
      },
      "source": [
        "Cleaning Data To Be Predicted :"
      ],
      "id": "f14af406"
    },
    {
      "cell_type": "code",
      "metadata": {
        "id": "2bada4b1"
      },
      "source": [
        "pred_df = pd.DataFrame({'Company':['HP'],'Product':['250 G6'],'TypeName' : ['Notebook'],'Inches' : [14],'ScreenResolution' : ['IPS Panel Full HD 1920x1080'], 'Cpu' : ['Intel Core i7 7500U 2.7GHz'],'Ram' : ['8GB'],'Memory' : ['1TB SSD'],'Gpu' : ['Intel HD Graphics 620'], 'OpSys' : ['Linux'], 'Weight' : ['1.5kg']})\n",
        "pred_df = clean(pred_df)"
      ],
      "id": "2bada4b1",
      "execution_count": null,
      "outputs": []
    },
    {
      "cell_type": "code",
      "metadata": {
        "id": "3d0ba671"
      },
      "source": [
        "l = ['cpu_AMD','cpu_Intel','cpu_Samsung','Type_2 in 1 Convertible','Type_Gaming','Type_Netbook','Type_Notebook','Type_Ultrabook','Type_Workstation','op_Android','op_Chrome', 'op_Linux',\n",
        "       'op_Mac OS X', 'op_No OS', 'op_Windows 10', 'op_Windows 10 S',\n",
        "       'op_Windows 7', 'op_macOS']\n",
        "for col in l:\n",
        "    pred_df[col] = 0"
      ],
      "id": "3d0ba671",
      "execution_count": null,
      "outputs": []
    },
    {
      "cell_type": "code",
      "metadata": {
        "id": "e9a7dcc3"
      },
      "source": [
        "a = pred_df['Gpu'][0]\n",
        "pred_df['Gpu'] = gpudf.loc[gpudf.Gpu==a,'val'].values[0]"
      ],
      "id": "e9a7dcc3",
      "execution_count": null,
      "outputs": []
    },
    {
      "cell_type": "markdown",
      "metadata": {
        "id": "699d53d4"
      },
      "source": [
        "Linear Regression :"
      ],
      "id": "699d53d4"
    },
    {
      "cell_type": "code",
      "metadata": {
        "colab": {
          "base_uri": "https://localhost:8080/"
        },
        "id": "25f785bb",
        "outputId": "4a7e6075-41ac-45d5-8c90-e4c639898af9"
      },
      "source": [
        "clf = LinearRegression ()\n",
        "clf.fit(X_train , y_train)"
      ],
      "id": "25f785bb",
      "execution_count": null,
      "outputs": [
        {
          "output_type": "execute_result",
          "data": {
            "text/plain": [
              "LinearRegression(copy_X=True, fit_intercept=True, n_jobs=None, normalize=False)"
            ]
          },
          "metadata": {
            "tags": []
          },
          "execution_count": 36
        }
      ]
    },
    {
      "cell_type": "markdown",
      "metadata": {
        "id": "fbTIKNgktxfK"
      },
      "source": [
        ""
      ],
      "id": "fbTIKNgktxfK"
    },
    {
      "cell_type": "code",
      "metadata": {
        "colab": {
          "base_uri": "https://localhost:8080/"
        },
        "id": "aaae977d",
        "outputId": "60c19360-6459-4f30-f261-15af871f3d21"
      },
      "source": [
        "clf.score(X_train,y_train)"
      ],
      "id": "aaae977d",
      "execution_count": null,
      "outputs": [
        {
          "output_type": "execute_result",
          "data": {
            "text/plain": [
              "0.7963799723663094"
            ]
          },
          "metadata": {
            "tags": []
          },
          "execution_count": 37
        }
      ]
    },
    {
      "cell_type": "code",
      "metadata": {
        "colab": {
          "base_uri": "https://localhost:8080/"
        },
        "id": "5cfdbbef",
        "outputId": "b709a617-0238-4a5a-a919-f397c7510c86"
      },
      "source": [
        "clf.score(X_test,y_test)"
      ],
      "id": "5cfdbbef",
      "execution_count": null,
      "outputs": [
        {
          "output_type": "execute_result",
          "data": {
            "text/plain": [
              "0.7888777682574388"
            ]
          },
          "metadata": {
            "tags": []
          },
          "execution_count": 38
        }
      ]
    },
    {
      "cell_type": "code",
      "metadata": {
        "colab": {
          "base_uri": "https://localhost:8080/",
          "height": 286
        },
        "id": "f336f6e5",
        "outputId": "141be594-90e2-48d7-8310-a5b0d5c66635"
      },
      "source": [
        "y_predicted = clf.predict(X_test)\n",
        "plt.scatter(y_test,y_predicted,color = '#88c999')"
      ],
      "id": "f336f6e5",
      "execution_count": null,
      "outputs": [
        {
          "output_type": "execute_result",
          "data": {
            "text/plain": [
              "<matplotlib.collections.PathCollection at 0x7f19e57afe90>"
            ]
          },
          "metadata": {
            "tags": []
          },
          "execution_count": 51
        },
        {
          "output_type": "display_data",
          "data": {
            "image/png": "[encoded data removed]",
            "text/plain": [
              "<Figure size 432x288 with 1 Axes>"
            ]
          },
          "metadata": {
            "tags": []
          }
        }
      ]
    },
    {
      "cell_type": "markdown",
      "metadata": {
        "id": "70c6633d"
      },
      "source": [
        "Ridge:"
      ],
      "id": "70c6633d"
    },
    {
      "cell_type": "code",
      "metadata": {
        "colab": {
          "base_uri": "https://localhost:8080/"
        },
        "id": "760b9e6b",
        "outputId": "d77788a1-a2e6-4814-80cb-602bec7017f4"
      },
      "source": [
        "ridlr = Ridge()\n",
        "ridlr.fit(X_train, y_train)\n",
        "score = ridlr.score(X_test,y_test)\n",
        "score"
      ],
      "id": "760b9e6b",
      "execution_count": null,
      "outputs": [
        {
          "output_type": "execute_result",
          "data": {
            "text/plain": [
              "0.7892888500291874"
            ]
          },
          "metadata": {
            "tags": []
          },
          "execution_count": 40
        }
      ]
    },
    {
      "cell_type": "markdown",
      "metadata": {
        "id": "3f4ccd75"
      },
      "source": [
        "Random Forest Regressor :"
      ],
      "id": "3f4ccd75"
    },
    {
      "cell_type": "code",
      "metadata": {
        "id": "47d2d94b"
      },
      "source": [
        "from sklearn.ensemble import RandomForestRegressor\n",
        "rfr = RandomForestRegressor()"
      ],
      "id": "47d2d94b",
      "execution_count": null,
      "outputs": []
    },
    {
      "cell_type": "code",
      "metadata": {
        "colab": {
          "base_uri": "https://localhost:8080/"
        },
        "id": "9e6e2b27",
        "outputId": "d9fa50f2-18be-434b-b054-360a6f30e1b3"
      },
      "source": [
        "rfr.fit(X_train,y_train)"
      ],
      "id": "9e6e2b27",
      "execution_count": null,
      "outputs": [
        {
          "output_type": "execute_result",
          "data": {
            "text/plain": [
              "RandomForestRegressor(bootstrap=True, ccp_alpha=0.0, criterion='mse',\n",
              "                      max_depth=None, max_features='auto', max_leaf_nodes=None,\n",
              "                      max_samples=None, min_impurity_decrease=0.0,\n",
              "                      min_impurity_split=None, min_samples_leaf=1,\n",
              "                      min_samples_split=2, min_weight_fraction_leaf=0.0,\n",
              "                      n_estimators=100, n_jobs=None, oob_score=False,\n",
              "                      random_state=None, verbose=0, warm_start=False)"
            ]
          },
          "metadata": {
            "tags": []
          },
          "execution_count": 42
        }
      ]
    },
    {
      "cell_type": "code",
      "metadata": {
        "colab": {
          "base_uri": "https://localhost:8080/"
        },
        "id": "fd583a28",
        "outputId": "0caf85de-7119-46cc-a29d-6777594c5033"
      },
      "source": [
        "rfr.score(X_train,y_train)  #train score"
      ],
      "id": "fd583a28",
      "execution_count": null,
      "outputs": [
        {
          "output_type": "execute_result",
          "data": {
            "text/plain": [
              "0.976429910826258"
            ]
          },
          "metadata": {
            "tags": []
          },
          "execution_count": 43
        }
      ]
    },
    {
      "cell_type": "code",
      "metadata": {
        "colab": {
          "base_uri": "https://localhost:8080/"
        },
        "id": "15b3a1de",
        "outputId": "9507d717-4620-46fa-f6e8-07dfa2a77a64"
      },
      "source": [
        "rfr.score(X_test,y_test)   #test score"
      ],
      "id": "15b3a1de",
      "execution_count": null,
      "outputs": [
        {
          "output_type": "execute_result",
          "data": {
            "text/plain": [
              "0.8493155728100502"
            ]
          },
          "metadata": {
            "tags": []
          },
          "execution_count": 44
        }
      ]
    },
    {
      "cell_type": "code",
      "metadata": {
        "colab": {
          "base_uri": "https://localhost:8080/",
          "height": 286
        },
        "id": "a55a0e37",
        "outputId": "31610ef4-19c7-44ad-ed42-276146d6a437"
      },
      "source": [
        "y_predicted = rfr.predict(X_test)\n",
        "plt.scatter(y_test,y_predicted, color = '#88c999')"
      ],
      "id": "a55a0e37",
      "execution_count": null,
      "outputs": [
        {
          "output_type": "execute_result",
          "data": {
            "text/plain": [
              "<matplotlib.collections.PathCollection at 0x7f19e5799ed0>"
            ]
          },
          "metadata": {
            "tags": []
          },
          "execution_count": 52
        },
        {
          "output_type": "display_data",
          "data": {
            "image/png": "[encoded data removed]",
            "text/plain": [
              "<Figure size 432x288 with 1 Axes>"
            ]
          },
          "metadata": {
            "tags": []
          }
        }
      ]
    },
    {
      "cell_type": "markdown",
      "metadata": {
        "id": "604ab277"
      },
      "source": [
        "From the above, Random forest Regressor has the best Scores. So the required value to be predicted : "
      ],
      "id": "604ab277"
    },
    {
      "cell_type": "code",
      "metadata": {
        "colab": {
          "base_uri": "https://localhost:8080/"
        },
        "id": "87fd47f5",
        "outputId": "21d445c5-3ef9-4ea5-c14c-630e5e972a2f"
      },
      "source": [
        "price = rfr.predict(pred_df)[0]\n",
        "price"
      ],
      "id": "87fd47f5",
      "execution_count": null,
      "outputs": [
        {
          "output_type": "execute_result",
          "data": {
            "text/plain": [
              "308.4726000000001"
            ]
          },
          "metadata": {
            "tags": []
          },
          "execution_count": 48
        }
      ]
    }
  ]
}